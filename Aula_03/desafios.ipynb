{
  "cells": [
    {
      "cell_type": "markdown",
      "metadata": {
        "id": "view-in-github",
        "colab_type": "text"
      },
      "source": [
        "<a href=\"https://colab.research.google.com/github/NiveskZ/ia-datascience-dataviz/blob/main/Aula_03/desafios.ipynb\" target=\"_parent\"><img src=\"https://colab.research.google.com/assets/colab-badge.svg\" alt=\"Open In Colab\"/></a>"
      ]
    },
    {
      "cell_type": "markdown",
      "metadata": {
        "id": "qxah03ikONCD"
      },
      "source": [
        "# Sobre o notebook\n",
        "\n",
        "Aproveite esse espaço para as atividades do curso de **IA aplicada a Data Science: utilizando IA na construção de visualização de dados** da Alura. Aqui você pode escrever e testar os códigos dos diversos exercícios do **Mão na Massa** envolvendo os aprendizados de cada aula.\n",
        "\n",
        "Este notebook foi construído com espaços para adicionar o prompt que será utilizado para criar o código pelo ChatGPT e as células dos desafios propostos no curso, com eles você tem espaço para construir e executar suas soluções.\n"
      ]
    },
    {
      "cell_type": "markdown",
      "metadata": {
        "id": "5ZBOKY0Zlkby"
      },
      "source": [
        "Logo abaixo, temos as url's onde estão localizadas as bases utilizadas no projeto juntamente com a url com dados que utilizaremos também no desafio"
      ]
    },
    {
      "cell_type": "code",
      "execution_count": 8,
      "metadata": {
        "id": "o2bYshIYlkby"
      },
      "outputs": [],
      "source": [
        "url_clientes = \"https://raw.githubusercontent.com/alura-cursos/ia-datascience-dataviz/main/dados/zoop_clientes.csv\"\n",
        "url_vendas = \"https://raw.githubusercontent.com/alura-cursos/ia-datascience-dataviz/main/dados/zoop_vendas.csv\"\n",
        "url_zoop_pay = \"https://raw.githubusercontent.com/alura-cursos/ia-datascience-dataviz/main/dados/cadastro_zoop_pay.csv\""
      ]
    },
    {
      "cell_type": "markdown",
      "metadata": {
        "id": "IA3M1eso_L2Z"
      },
      "source": [
        "## Aula 01 - Conhecendo os dados"
      ]
    },
    {
      "cell_type": "markdown",
      "metadata": {
        "id": "AmpR_VE4CImQ"
      },
      "source": [
        "### Mão na Massa - Zoop Pay"
      ]
    },
    {
      "cell_type": "markdown",
      "metadata": {
        "id": "gP3buRAPlkbz"
      },
      "source": [
        "> #### <strong><font color=\"#203f75\" size= 6>Prompt:</font></strong>\n",
        "\n",
        "Escreva aqui o prompt que você utilizou para gerar o código do desafio!\n",
        "\n",
        "Vamos atuar como analista de dados de um e-commerce. Recebemos três bases de dados com os dados dos clientes e vendas em 2023 e quais clientes estão pré-cadastrados na Zoop Pay, respectivamente.\n",
        "\n",
        "Vamos iniciar unindo as duas primeiras bases do nosso projeto (\"vendas\" e \"clientes\") em um DataFrame chamado \"df\" utilizando como chave a coluna \"ID_compra\". Além disso, vamos organizar as colunas na seguinte sequência:\n",
        "\n",
        "[\"ID_compra\", \"data\", \"horario\", \"categoria\", \"preco_unitario\", \"quantidade\", \"frete\", \"metodo_pagamento\", \"ID_cliente\", \"idade\", \"sexo_biologico\", \"cidade\", \"uf\", \"regiao\", \"cashback\", \"avaliacao_compra\" ]\n",
        "\n",
        "Construa um código para executar esta etapa usando o Python e a biblioteca Pandas.\n"
      ]
    },
    {
      "cell_type": "code",
      "execution_count": 9,
      "metadata": {
        "id": "ZruvypSoO6oP",
        "colab": {
          "base_uri": "https://localhost:8080/",
          "height": 206
        },
        "outputId": "b1694eec-7453-4a30-de11-6b6c6007399e"
      },
      "outputs": [
        {
          "output_type": "execute_result",
          "data": {
            "text/plain": [
              "   ID_compra        data horario                   categoria  preco_unitario  \\\n",
              "0          6  2023-01-03   20:40                 Eletrônicos          4457.9   \n",
              "1          5  2023-01-03   21:48    Ferramentas e construção           115.9   \n",
              "2          9  2023-01-03   17:08  Beleza e cuidados pessoais            68.9   \n",
              "3          4  2023-01-03   14:29    Ferramentas e construção            80.9   \n",
              "4          8  2023-01-03   18:02  Beleza e cuidados pessoais           165.0   \n",
              "\n",
              "   quantidade   frete   metodo_pagamento  ID_cliente  idade sexo_biologico  \\\n",
              "0           4  713.26             Boleto        6149     30      Masculino   \n",
              "1           1    0.00                PIX        9491     36      Masculino   \n",
              "2           2   13.78  Cartão de Crédito        5288     39       Feminino   \n",
              "3           5   40.45                PIX        9679     35      Masculino   \n",
              "4           4    0.00                PIX        1380     50      Masculino   \n",
              "\n",
              "         cidade                 uf    regiao cashback  avaliacao_compra  \n",
              "0  Porto Alegre  Rio Grande do Sul       Sul      Sim                10  \n",
              "1     São Paulo          São Paulo   Sudeste      Sim                 8  \n",
              "2   Porto Velho           Rondônia     Norte      Não                 7  \n",
              "3        Recife         Pernambuco  Nordeste      Sim                 9  \n",
              "4     São Paulo          São Paulo   Sudeste      Não                 9  "
            ],
            "text/html": [
              "\n",
              "  <div id=\"df-196d9a95-2074-4e0a-bee0-1ff749cf2600\" class=\"colab-df-container\">\n",
              "    <div>\n",
              "<style scoped>\n",
              "    .dataframe tbody tr th:only-of-type {\n",
              "        vertical-align: middle;\n",
              "    }\n",
              "\n",
              "    .dataframe tbody tr th {\n",
              "        vertical-align: top;\n",
              "    }\n",
              "\n",
              "    .dataframe thead th {\n",
              "        text-align: right;\n",
              "    }\n",
              "</style>\n",
              "<table border=\"1\" class=\"dataframe\">\n",
              "  <thead>\n",
              "    <tr style=\"text-align: right;\">\n",
              "      <th></th>\n",
              "      <th>ID_compra</th>\n",
              "      <th>data</th>\n",
              "      <th>horario</th>\n",
              "      <th>categoria</th>\n",
              "      <th>preco_unitario</th>\n",
              "      <th>quantidade</th>\n",
              "      <th>frete</th>\n",
              "      <th>metodo_pagamento</th>\n",
              "      <th>ID_cliente</th>\n",
              "      <th>idade</th>\n",
              "      <th>sexo_biologico</th>\n",
              "      <th>cidade</th>\n",
              "      <th>uf</th>\n",
              "      <th>regiao</th>\n",
              "      <th>cashback</th>\n",
              "      <th>avaliacao_compra</th>\n",
              "    </tr>\n",
              "  </thead>\n",
              "  <tbody>\n",
              "    <tr>\n",
              "      <th>0</th>\n",
              "      <td>6</td>\n",
              "      <td>2023-01-03</td>\n",
              "      <td>20:40</td>\n",
              "      <td>Eletrônicos</td>\n",
              "      <td>4457.9</td>\n",
              "      <td>4</td>\n",
              "      <td>713.26</td>\n",
              "      <td>Boleto</td>\n",
              "      <td>6149</td>\n",
              "      <td>30</td>\n",
              "      <td>Masculino</td>\n",
              "      <td>Porto Alegre</td>\n",
              "      <td>Rio Grande do Sul</td>\n",
              "      <td>Sul</td>\n",
              "      <td>Sim</td>\n",
              "      <td>10</td>\n",
              "    </tr>\n",
              "    <tr>\n",
              "      <th>1</th>\n",
              "      <td>5</td>\n",
              "      <td>2023-01-03</td>\n",
              "      <td>21:48</td>\n",
              "      <td>Ferramentas e construção</td>\n",
              "      <td>115.9</td>\n",
              "      <td>1</td>\n",
              "      <td>0.00</td>\n",
              "      <td>PIX</td>\n",
              "      <td>9491</td>\n",
              "      <td>36</td>\n",
              "      <td>Masculino</td>\n",
              "      <td>São Paulo</td>\n",
              "      <td>São Paulo</td>\n",
              "      <td>Sudeste</td>\n",
              "      <td>Sim</td>\n",
              "      <td>8</td>\n",
              "    </tr>\n",
              "    <tr>\n",
              "      <th>2</th>\n",
              "      <td>9</td>\n",
              "      <td>2023-01-03</td>\n",
              "      <td>17:08</td>\n",
              "      <td>Beleza e cuidados pessoais</td>\n",
              "      <td>68.9</td>\n",
              "      <td>2</td>\n",
              "      <td>13.78</td>\n",
              "      <td>Cartão de Crédito</td>\n",
              "      <td>5288</td>\n",
              "      <td>39</td>\n",
              "      <td>Feminino</td>\n",
              "      <td>Porto Velho</td>\n",
              "      <td>Rondônia</td>\n",
              "      <td>Norte</td>\n",
              "      <td>Não</td>\n",
              "      <td>7</td>\n",
              "    </tr>\n",
              "    <tr>\n",
              "      <th>3</th>\n",
              "      <td>4</td>\n",
              "      <td>2023-01-03</td>\n",
              "      <td>14:29</td>\n",
              "      <td>Ferramentas e construção</td>\n",
              "      <td>80.9</td>\n",
              "      <td>5</td>\n",
              "      <td>40.45</td>\n",
              "      <td>PIX</td>\n",
              "      <td>9679</td>\n",
              "      <td>35</td>\n",
              "      <td>Masculino</td>\n",
              "      <td>Recife</td>\n",
              "      <td>Pernambuco</td>\n",
              "      <td>Nordeste</td>\n",
              "      <td>Sim</td>\n",
              "      <td>9</td>\n",
              "    </tr>\n",
              "    <tr>\n",
              "      <th>4</th>\n",
              "      <td>8</td>\n",
              "      <td>2023-01-03</td>\n",
              "      <td>18:02</td>\n",
              "      <td>Beleza e cuidados pessoais</td>\n",
              "      <td>165.0</td>\n",
              "      <td>4</td>\n",
              "      <td>0.00</td>\n",
              "      <td>PIX</td>\n",
              "      <td>1380</td>\n",
              "      <td>50</td>\n",
              "      <td>Masculino</td>\n",
              "      <td>São Paulo</td>\n",
              "      <td>São Paulo</td>\n",
              "      <td>Sudeste</td>\n",
              "      <td>Não</td>\n",
              "      <td>9</td>\n",
              "    </tr>\n",
              "  </tbody>\n",
              "</table>\n",
              "</div>\n",
              "    <div class=\"colab-df-buttons\">\n",
              "\n",
              "  <div class=\"colab-df-container\">\n",
              "    <button class=\"colab-df-convert\" onclick=\"convertToInteractive('df-196d9a95-2074-4e0a-bee0-1ff749cf2600')\"\n",
              "            title=\"Convert this dataframe to an interactive table.\"\n",
              "            style=\"display:none;\">\n",
              "\n",
              "  <svg xmlns=\"http://www.w3.org/2000/svg\" height=\"24px\" viewBox=\"0 -960 960 960\">\n",
              "    <path d=\"M120-120v-720h720v720H120Zm60-500h600v-160H180v160Zm220 220h160v-160H400v160Zm0 220h160v-160H400v160ZM180-400h160v-160H180v160Zm440 0h160v-160H620v160ZM180-180h160v-160H180v160Zm440 0h160v-160H620v160Z\"/>\n",
              "  </svg>\n",
              "    </button>\n",
              "\n",
              "  <style>\n",
              "    .colab-df-container {\n",
              "      display:flex;\n",
              "      gap: 12px;\n",
              "    }\n",
              "\n",
              "    .colab-df-convert {\n",
              "      background-color: #E8F0FE;\n",
              "      border: none;\n",
              "      border-radius: 50%;\n",
              "      cursor: pointer;\n",
              "      display: none;\n",
              "      fill: #1967D2;\n",
              "      height: 32px;\n",
              "      padding: 0 0 0 0;\n",
              "      width: 32px;\n",
              "    }\n",
              "\n",
              "    .colab-df-convert:hover {\n",
              "      background-color: #E2EBFA;\n",
              "      box-shadow: 0px 1px 2px rgba(60, 64, 67, 0.3), 0px 1px 3px 1px rgba(60, 64, 67, 0.15);\n",
              "      fill: #174EA6;\n",
              "    }\n",
              "\n",
              "    .colab-df-buttons div {\n",
              "      margin-bottom: 4px;\n",
              "    }\n",
              "\n",
              "    [theme=dark] .colab-df-convert {\n",
              "      background-color: #3B4455;\n",
              "      fill: #D2E3FC;\n",
              "    }\n",
              "\n",
              "    [theme=dark] .colab-df-convert:hover {\n",
              "      background-color: #434B5C;\n",
              "      box-shadow: 0px 1px 3px 1px rgba(0, 0, 0, 0.15);\n",
              "      filter: drop-shadow(0px 1px 2px rgba(0, 0, 0, 0.3));\n",
              "      fill: #FFFFFF;\n",
              "    }\n",
              "  </style>\n",
              "\n",
              "    <script>\n",
              "      const buttonEl =\n",
              "        document.querySelector('#df-196d9a95-2074-4e0a-bee0-1ff749cf2600 button.colab-df-convert');\n",
              "      buttonEl.style.display =\n",
              "        google.colab.kernel.accessAllowed ? 'block' : 'none';\n",
              "\n",
              "      async function convertToInteractive(key) {\n",
              "        const element = document.querySelector('#df-196d9a95-2074-4e0a-bee0-1ff749cf2600');\n",
              "        const dataTable =\n",
              "          await google.colab.kernel.invokeFunction('convertToInteractive',\n",
              "                                                    [key], {});\n",
              "        if (!dataTable) return;\n",
              "\n",
              "        const docLinkHtml = 'Like what you see? Visit the ' +\n",
              "          '<a target=\"_blank\" href=https://colab.research.google.com/notebooks/data_table.ipynb>data table notebook</a>'\n",
              "          + ' to learn more about interactive tables.';\n",
              "        element.innerHTML = '';\n",
              "        dataTable['output_type'] = 'display_data';\n",
              "        await google.colab.output.renderOutput(dataTable, element);\n",
              "        const docLink = document.createElement('div');\n",
              "        docLink.innerHTML = docLinkHtml;\n",
              "        element.appendChild(docLink);\n",
              "      }\n",
              "    </script>\n",
              "  </div>\n",
              "\n",
              "\n",
              "    <div id=\"df-0b473393-72cd-4b9b-9638-de81e42545d2\">\n",
              "      <button class=\"colab-df-quickchart\" onclick=\"quickchart('df-0b473393-72cd-4b9b-9638-de81e42545d2')\"\n",
              "                title=\"Suggest charts\"\n",
              "                style=\"display:none;\">\n",
              "\n",
              "<svg xmlns=\"http://www.w3.org/2000/svg\" height=\"24px\"viewBox=\"0 0 24 24\"\n",
              "     width=\"24px\">\n",
              "    <g>\n",
              "        <path d=\"M19 3H5c-1.1 0-2 .9-2 2v14c0 1.1.9 2 2 2h14c1.1 0 2-.9 2-2V5c0-1.1-.9-2-2-2zM9 17H7v-7h2v7zm4 0h-2V7h2v10zm4 0h-2v-4h2v4z\"/>\n",
              "    </g>\n",
              "</svg>\n",
              "      </button>\n",
              "\n",
              "<style>\n",
              "  .colab-df-quickchart {\n",
              "      --bg-color: #E8F0FE;\n",
              "      --fill-color: #1967D2;\n",
              "      --hover-bg-color: #E2EBFA;\n",
              "      --hover-fill-color: #174EA6;\n",
              "      --disabled-fill-color: #AAA;\n",
              "      --disabled-bg-color: #DDD;\n",
              "  }\n",
              "\n",
              "  [theme=dark] .colab-df-quickchart {\n",
              "      --bg-color: #3B4455;\n",
              "      --fill-color: #D2E3FC;\n",
              "      --hover-bg-color: #434B5C;\n",
              "      --hover-fill-color: #FFFFFF;\n",
              "      --disabled-bg-color: #3B4455;\n",
              "      --disabled-fill-color: #666;\n",
              "  }\n",
              "\n",
              "  .colab-df-quickchart {\n",
              "    background-color: var(--bg-color);\n",
              "    border: none;\n",
              "    border-radius: 50%;\n",
              "    cursor: pointer;\n",
              "    display: none;\n",
              "    fill: var(--fill-color);\n",
              "    height: 32px;\n",
              "    padding: 0;\n",
              "    width: 32px;\n",
              "  }\n",
              "\n",
              "  .colab-df-quickchart:hover {\n",
              "    background-color: var(--hover-bg-color);\n",
              "    box-shadow: 0 1px 2px rgba(60, 64, 67, 0.3), 0 1px 3px 1px rgba(60, 64, 67, 0.15);\n",
              "    fill: var(--button-hover-fill-color);\n",
              "  }\n",
              "\n",
              "  .colab-df-quickchart-complete:disabled,\n",
              "  .colab-df-quickchart-complete:disabled:hover {\n",
              "    background-color: var(--disabled-bg-color);\n",
              "    fill: var(--disabled-fill-color);\n",
              "    box-shadow: none;\n",
              "  }\n",
              "\n",
              "  .colab-df-spinner {\n",
              "    border: 2px solid var(--fill-color);\n",
              "    border-color: transparent;\n",
              "    border-bottom-color: var(--fill-color);\n",
              "    animation:\n",
              "      spin 1s steps(1) infinite;\n",
              "  }\n",
              "\n",
              "  @keyframes spin {\n",
              "    0% {\n",
              "      border-color: transparent;\n",
              "      border-bottom-color: var(--fill-color);\n",
              "      border-left-color: var(--fill-color);\n",
              "    }\n",
              "    20% {\n",
              "      border-color: transparent;\n",
              "      border-left-color: var(--fill-color);\n",
              "      border-top-color: var(--fill-color);\n",
              "    }\n",
              "    30% {\n",
              "      border-color: transparent;\n",
              "      border-left-color: var(--fill-color);\n",
              "      border-top-color: var(--fill-color);\n",
              "      border-right-color: var(--fill-color);\n",
              "    }\n",
              "    40% {\n",
              "      border-color: transparent;\n",
              "      border-right-color: var(--fill-color);\n",
              "      border-top-color: var(--fill-color);\n",
              "    }\n",
              "    60% {\n",
              "      border-color: transparent;\n",
              "      border-right-color: var(--fill-color);\n",
              "    }\n",
              "    80% {\n",
              "      border-color: transparent;\n",
              "      border-right-color: var(--fill-color);\n",
              "      border-bottom-color: var(--fill-color);\n",
              "    }\n",
              "    90% {\n",
              "      border-color: transparent;\n",
              "      border-bottom-color: var(--fill-color);\n",
              "    }\n",
              "  }\n",
              "</style>\n",
              "\n",
              "      <script>\n",
              "        async function quickchart(key) {\n",
              "          const quickchartButtonEl =\n",
              "            document.querySelector('#' + key + ' button');\n",
              "          quickchartButtonEl.disabled = true;  // To prevent multiple clicks.\n",
              "          quickchartButtonEl.classList.add('colab-df-spinner');\n",
              "          try {\n",
              "            const charts = await google.colab.kernel.invokeFunction(\n",
              "                'suggestCharts', [key], {});\n",
              "          } catch (error) {\n",
              "            console.error('Error during call to suggestCharts:', error);\n",
              "          }\n",
              "          quickchartButtonEl.classList.remove('colab-df-spinner');\n",
              "          quickchartButtonEl.classList.add('colab-df-quickchart-complete');\n",
              "        }\n",
              "        (() => {\n",
              "          let quickchartButtonEl =\n",
              "            document.querySelector('#df-0b473393-72cd-4b9b-9638-de81e42545d2 button');\n",
              "          quickchartButtonEl.style.display =\n",
              "            google.colab.kernel.accessAllowed ? 'block' : 'none';\n",
              "        })();\n",
              "      </script>\n",
              "    </div>\n",
              "\n",
              "    </div>\n",
              "  </div>\n"
            ],
            "application/vnd.google.colaboratory.intrinsic+json": {
              "type": "dataframe",
              "variable_name": "df",
              "summary": "{\n  \"name\": \"df\",\n  \"rows\": 6169,\n  \"fields\": [\n    {\n      \"column\": \"ID_compra\",\n      \"properties\": {\n        \"dtype\": \"number\",\n        \"std\": 1780,\n        \"min\": 1,\n        \"max\": 6169,\n        \"num_unique_values\": 6169,\n        \"samples\": [\n          5998,\n          409,\n          1489\n        ],\n        \"semantic_type\": \"\",\n        \"description\": \"\"\n      }\n    },\n    {\n      \"column\": \"data\",\n      \"properties\": {\n        \"dtype\": \"object\",\n        \"num_unique_values\": 304,\n        \"samples\": [\n          \"2023-08-05\",\n          \"2023-07-06\",\n          \"2023-05-17\"\n        ],\n        \"semantic_type\": \"\",\n        \"description\": \"\"\n      }\n    },\n    {\n      \"column\": \"horario\",\n      \"properties\": {\n        \"dtype\": \"object\",\n        \"num_unique_values\": 659,\n        \"samples\": [\n          \"19:04\",\n          \"21:53\",\n          \"21:42\"\n        ],\n        \"semantic_type\": \"\",\n        \"description\": \"\"\n      }\n    },\n    {\n      \"column\": \"categoria\",\n      \"properties\": {\n        \"dtype\": \"category\",\n        \"num_unique_values\": 8,\n        \"samples\": [\n          \"Ferramentas e constru\\u00e7\\u00e3o\",\n          \"Livros\",\n          \"Eletr\\u00f4nicos\"\n        ],\n        \"semantic_type\": \"\",\n        \"description\": \"\"\n      }\n    },\n    {\n      \"column\": \"preco_unitario\",\n      \"properties\": {\n        \"dtype\": \"number\",\n        \"std\": 1852.0643423194142,\n        \"min\": 2.9,\n        \"max\": 8000.0,\n        \"num_unique_values\": 1655,\n        \"samples\": [\n          6291.9,\n          52.9,\n          31.0\n        ],\n        \"semantic_type\": \"\",\n        \"description\": \"\"\n      }\n    },\n    {\n      \"column\": \"quantidade\",\n      \"properties\": {\n        \"dtype\": \"number\",\n        \"std\": 1,\n        \"min\": 1,\n        \"max\": 5,\n        \"num_unique_values\": 5,\n        \"samples\": [\n          1,\n          3,\n          2\n        ],\n        \"semantic_type\": \"\",\n        \"description\": \"\"\n      }\n    },\n    {\n      \"column\": \"frete\",\n      \"properties\": {\n        \"dtype\": \"number\",\n        \"std\": 366.14922483792856,\n        \"min\": 0.0,\n        \"max\": 4521.54,\n        \"num_unique_values\": 2934,\n        \"samples\": [\n          30.58,\n          21.21,\n          14.23\n        ],\n        \"semantic_type\": \"\",\n        \"description\": \"\"\n      }\n    },\n    {\n      \"column\": \"metodo_pagamento\",\n      \"properties\": {\n        \"dtype\": \"category\",\n        \"num_unique_values\": 4,\n        \"samples\": [\n          \"PIX\",\n          \"Cart\\u00e3o de D\\u00e9bito\",\n          \"Boleto\"\n        ],\n        \"semantic_type\": \"\",\n        \"description\": \"\"\n      }\n    },\n    {\n      \"column\": \"ID_cliente\",\n      \"properties\": {\n        \"dtype\": \"number\",\n        \"std\": 2610,\n        \"min\": 1005,\n        \"max\": 9999,\n        \"num_unique_values\": 4453,\n        \"samples\": [\n          7826,\n          3212,\n          2734\n        ],\n        \"semantic_type\": \"\",\n        \"description\": \"\"\n      }\n    },\n    {\n      \"column\": \"idade\",\n      \"properties\": {\n        \"dtype\": \"number\",\n        \"std\": 9,\n        \"min\": 18,\n        \"max\": 70,\n        \"num_unique_values\": 53,\n        \"samples\": [\n          47,\n          20,\n          70\n        ],\n        \"semantic_type\": \"\",\n        \"description\": \"\"\n      }\n    },\n    {\n      \"column\": \"sexo_biologico\",\n      \"properties\": {\n        \"dtype\": \"category\",\n        \"num_unique_values\": 2,\n        \"samples\": [\n          \"Feminino\",\n          \"Masculino\"\n        ],\n        \"semantic_type\": \"\",\n        \"description\": \"\"\n      }\n    },\n    {\n      \"column\": \"cidade\",\n      \"properties\": {\n        \"dtype\": \"category\",\n        \"num_unique_values\": 96,\n        \"samples\": [\n          \"Vit\\u00f3ria da Conquista\",\n          \"Feira de Santana\"\n        ],\n        \"semantic_type\": \"\",\n        \"description\": \"\"\n      }\n    },\n    {\n      \"column\": \"uf\",\n      \"properties\": {\n        \"dtype\": \"category\",\n        \"num_unique_values\": 27,\n        \"samples\": [\n          \"Par\\u00e1\",\n          \"Minas Gerais\"\n        ],\n        \"semantic_type\": \"\",\n        \"description\": \"\"\n      }\n    },\n    {\n      \"column\": \"regiao\",\n      \"properties\": {\n        \"dtype\": \"category\",\n        \"num_unique_values\": 5,\n        \"samples\": [\n          \"Sudeste\",\n          \"Centro-Oeste\"\n        ],\n        \"semantic_type\": \"\",\n        \"description\": \"\"\n      }\n    },\n    {\n      \"column\": \"cashback\",\n      \"properties\": {\n        \"dtype\": \"category\",\n        \"num_unique_values\": 2,\n        \"samples\": [\n          \"N\\u00e3o\",\n          \"Sim\"\n        ],\n        \"semantic_type\": \"\",\n        \"description\": \"\"\n      }\n    },\n    {\n      \"column\": \"avaliacao_compra\",\n      \"properties\": {\n        \"dtype\": \"number\",\n        \"std\": 1,\n        \"min\": 0,\n        \"max\": 10,\n        \"num_unique_values\": 11,\n        \"samples\": [\n          2,\n          10\n        ],\n        \"semantic_type\": \"\",\n        \"description\": \"\"\n      }\n    }\n  ]\n}"
            }
          },
          "metadata": {},
          "execution_count": 9
        }
      ],
      "source": [
        "import pandas as pd\n",
        "\n",
        "vendas = pd.read_csv(url_vendas)\n",
        "clientes = pd.read_csv(url_clientes)\n",
        "\n",
        "# Realizando a junção com base na coluna \"ID_compra\"\n",
        "df = pd.merge(vendas, clientes, on='ID_compra', how='inner')\n",
        "\n",
        "# Reorganizando as colunas conforme a ordem especificada\n",
        "colunas_ordenadas = [\n",
        "    \"ID_compra\", \"data\", \"horario\", \"categoria\", \"preco_unitario\", \"quantidade\",\n",
        "    \"frete\", \"metodo_pagamento\", \"ID_cliente\", \"idade\", \"sexo_biologico\",\n",
        "    \"cidade\", \"uf\", \"regiao\", \"cashback\", \"avaliacao_compra\"\n",
        "]\n",
        "\n",
        "df = df[colunas_ordenadas]\n",
        "\n",
        "# Exibindo as primeiras linhas para verificação\n",
        "df.head()"
      ]
    },
    {
      "cell_type": "markdown",
      "metadata": {
        "id": "AghtHs_flkbz"
      },
      "source": [
        "> #### <strong><font color=\"#203f75\" size= 6>Prompt:</font></strong>\n",
        "\n",
        "Escreva aqui o prompt que você utilizou para gerar o código do desafio!\n",
        "\n",
        "Agora, vamos unir o \"df\" com a base \"zoop_pay\", lida a partir da url \"url_zoop_pay\", gerando um novo \"df\". Para união das bases, utilizaremos a coluna \"ID_cliente\". Além disso, vamos ajustar a coluna \"data\" para o formato datetime, em que seu formato na base de dados está como \"YYYY-MM-DD\"."
      ]
    },
    {
      "cell_type": "code",
      "execution_count": 10,
      "metadata": {
        "id": "wN0_cal1O6FJ",
        "colab": {
          "base_uri": "https://localhost:8080/",
          "height": 206
        },
        "outputId": "9664c086-e704-4785-ab41-c055494a192b"
      },
      "outputs": [
        {
          "output_type": "execute_result",
          "data": {
            "text/plain": [
              "   ID_compra       data horario                   categoria  preco_unitario  \\\n",
              "0          6 2023-01-03   20:40                 Eletrônicos          4457.9   \n",
              "1          5 2023-01-03   21:48    Ferramentas e construção           115.9   \n",
              "2          9 2023-01-03   17:08  Beleza e cuidados pessoais            68.9   \n",
              "3          4 2023-01-03   14:29    Ferramentas e construção            80.9   \n",
              "4          8 2023-01-03   18:02  Beleza e cuidados pessoais           165.0   \n",
              "\n",
              "   quantidade   frete   metodo_pagamento  ID_cliente  idade sexo_biologico  \\\n",
              "0           4  713.26             Boleto        6149     30      Masculino   \n",
              "1           1    0.00                PIX        9491     36      Masculino   \n",
              "2           2   13.78  Cartão de Crédito        5288     39       Feminino   \n",
              "3           5   40.45                PIX        9679     35      Masculino   \n",
              "4           4    0.00                PIX        1380     50      Masculino   \n",
              "\n",
              "         cidade                 uf    regiao cashback  avaliacao_compra  \\\n",
              "0  Porto Alegre  Rio Grande do Sul       Sul      Sim                10   \n",
              "1     São Paulo          São Paulo   Sudeste      Sim                 8   \n",
              "2   Porto Velho           Rondônia     Norte      Não                 7   \n",
              "3        Recife         Pernambuco  Nordeste      Sim                 9   \n",
              "4     São Paulo          São Paulo   Sudeste      Não                 9   \n",
              "\n",
              "  zoop_pay  \n",
              "0      Não  \n",
              "1      Sim  \n",
              "2      Não  \n",
              "3      Sim  \n",
              "4      Não  "
            ],
            "text/html": [
              "\n",
              "  <div id=\"df-54ec2f48-d608-4261-bc00-f76623a83770\" class=\"colab-df-container\">\n",
              "    <div>\n",
              "<style scoped>\n",
              "    .dataframe tbody tr th:only-of-type {\n",
              "        vertical-align: middle;\n",
              "    }\n",
              "\n",
              "    .dataframe tbody tr th {\n",
              "        vertical-align: top;\n",
              "    }\n",
              "\n",
              "    .dataframe thead th {\n",
              "        text-align: right;\n",
              "    }\n",
              "</style>\n",
              "<table border=\"1\" class=\"dataframe\">\n",
              "  <thead>\n",
              "    <tr style=\"text-align: right;\">\n",
              "      <th></th>\n",
              "      <th>ID_compra</th>\n",
              "      <th>data</th>\n",
              "      <th>horario</th>\n",
              "      <th>categoria</th>\n",
              "      <th>preco_unitario</th>\n",
              "      <th>quantidade</th>\n",
              "      <th>frete</th>\n",
              "      <th>metodo_pagamento</th>\n",
              "      <th>ID_cliente</th>\n",
              "      <th>idade</th>\n",
              "      <th>sexo_biologico</th>\n",
              "      <th>cidade</th>\n",
              "      <th>uf</th>\n",
              "      <th>regiao</th>\n",
              "      <th>cashback</th>\n",
              "      <th>avaliacao_compra</th>\n",
              "      <th>zoop_pay</th>\n",
              "    </tr>\n",
              "  </thead>\n",
              "  <tbody>\n",
              "    <tr>\n",
              "      <th>0</th>\n",
              "      <td>6</td>\n",
              "      <td>2023-01-03</td>\n",
              "      <td>20:40</td>\n",
              "      <td>Eletrônicos</td>\n",
              "      <td>4457.9</td>\n",
              "      <td>4</td>\n",
              "      <td>713.26</td>\n",
              "      <td>Boleto</td>\n",
              "      <td>6149</td>\n",
              "      <td>30</td>\n",
              "      <td>Masculino</td>\n",
              "      <td>Porto Alegre</td>\n",
              "      <td>Rio Grande do Sul</td>\n",
              "      <td>Sul</td>\n",
              "      <td>Sim</td>\n",
              "      <td>10</td>\n",
              "      <td>Não</td>\n",
              "    </tr>\n",
              "    <tr>\n",
              "      <th>1</th>\n",
              "      <td>5</td>\n",
              "      <td>2023-01-03</td>\n",
              "      <td>21:48</td>\n",
              "      <td>Ferramentas e construção</td>\n",
              "      <td>115.9</td>\n",
              "      <td>1</td>\n",
              "      <td>0.00</td>\n",
              "      <td>PIX</td>\n",
              "      <td>9491</td>\n",
              "      <td>36</td>\n",
              "      <td>Masculino</td>\n",
              "      <td>São Paulo</td>\n",
              "      <td>São Paulo</td>\n",
              "      <td>Sudeste</td>\n",
              "      <td>Sim</td>\n",
              "      <td>8</td>\n",
              "      <td>Sim</td>\n",
              "    </tr>\n",
              "    <tr>\n",
              "      <th>2</th>\n",
              "      <td>9</td>\n",
              "      <td>2023-01-03</td>\n",
              "      <td>17:08</td>\n",
              "      <td>Beleza e cuidados pessoais</td>\n",
              "      <td>68.9</td>\n",
              "      <td>2</td>\n",
              "      <td>13.78</td>\n",
              "      <td>Cartão de Crédito</td>\n",
              "      <td>5288</td>\n",
              "      <td>39</td>\n",
              "      <td>Feminino</td>\n",
              "      <td>Porto Velho</td>\n",
              "      <td>Rondônia</td>\n",
              "      <td>Norte</td>\n",
              "      <td>Não</td>\n",
              "      <td>7</td>\n",
              "      <td>Não</td>\n",
              "    </tr>\n",
              "    <tr>\n",
              "      <th>3</th>\n",
              "      <td>4</td>\n",
              "      <td>2023-01-03</td>\n",
              "      <td>14:29</td>\n",
              "      <td>Ferramentas e construção</td>\n",
              "      <td>80.9</td>\n",
              "      <td>5</td>\n",
              "      <td>40.45</td>\n",
              "      <td>PIX</td>\n",
              "      <td>9679</td>\n",
              "      <td>35</td>\n",
              "      <td>Masculino</td>\n",
              "      <td>Recife</td>\n",
              "      <td>Pernambuco</td>\n",
              "      <td>Nordeste</td>\n",
              "      <td>Sim</td>\n",
              "      <td>9</td>\n",
              "      <td>Sim</td>\n",
              "    </tr>\n",
              "    <tr>\n",
              "      <th>4</th>\n",
              "      <td>8</td>\n",
              "      <td>2023-01-03</td>\n",
              "      <td>18:02</td>\n",
              "      <td>Beleza e cuidados pessoais</td>\n",
              "      <td>165.0</td>\n",
              "      <td>4</td>\n",
              "      <td>0.00</td>\n",
              "      <td>PIX</td>\n",
              "      <td>1380</td>\n",
              "      <td>50</td>\n",
              "      <td>Masculino</td>\n",
              "      <td>São Paulo</td>\n",
              "      <td>São Paulo</td>\n",
              "      <td>Sudeste</td>\n",
              "      <td>Não</td>\n",
              "      <td>9</td>\n",
              "      <td>Não</td>\n",
              "    </tr>\n",
              "  </tbody>\n",
              "</table>\n",
              "</div>\n",
              "    <div class=\"colab-df-buttons\">\n",
              "\n",
              "  <div class=\"colab-df-container\">\n",
              "    <button class=\"colab-df-convert\" onclick=\"convertToInteractive('df-54ec2f48-d608-4261-bc00-f76623a83770')\"\n",
              "            title=\"Convert this dataframe to an interactive table.\"\n",
              "            style=\"display:none;\">\n",
              "\n",
              "  <svg xmlns=\"http://www.w3.org/2000/svg\" height=\"24px\" viewBox=\"0 -960 960 960\">\n",
              "    <path d=\"M120-120v-720h720v720H120Zm60-500h600v-160H180v160Zm220 220h160v-160H400v160Zm0 220h160v-160H400v160ZM180-400h160v-160H180v160Zm440 0h160v-160H620v160ZM180-180h160v-160H180v160Zm440 0h160v-160H620v160Z\"/>\n",
              "  </svg>\n",
              "    </button>\n",
              "\n",
              "  <style>\n",
              "    .colab-df-container {\n",
              "      display:flex;\n",
              "      gap: 12px;\n",
              "    }\n",
              "\n",
              "    .colab-df-convert {\n",
              "      background-color: #E8F0FE;\n",
              "      border: none;\n",
              "      border-radius: 50%;\n",
              "      cursor: pointer;\n",
              "      display: none;\n",
              "      fill: #1967D2;\n",
              "      height: 32px;\n",
              "      padding: 0 0 0 0;\n",
              "      width: 32px;\n",
              "    }\n",
              "\n",
              "    .colab-df-convert:hover {\n",
              "      background-color: #E2EBFA;\n",
              "      box-shadow: 0px 1px 2px rgba(60, 64, 67, 0.3), 0px 1px 3px 1px rgba(60, 64, 67, 0.15);\n",
              "      fill: #174EA6;\n",
              "    }\n",
              "\n",
              "    .colab-df-buttons div {\n",
              "      margin-bottom: 4px;\n",
              "    }\n",
              "\n",
              "    [theme=dark] .colab-df-convert {\n",
              "      background-color: #3B4455;\n",
              "      fill: #D2E3FC;\n",
              "    }\n",
              "\n",
              "    [theme=dark] .colab-df-convert:hover {\n",
              "      background-color: #434B5C;\n",
              "      box-shadow: 0px 1px 3px 1px rgba(0, 0, 0, 0.15);\n",
              "      filter: drop-shadow(0px 1px 2px rgba(0, 0, 0, 0.3));\n",
              "      fill: #FFFFFF;\n",
              "    }\n",
              "  </style>\n",
              "\n",
              "    <script>\n",
              "      const buttonEl =\n",
              "        document.querySelector('#df-54ec2f48-d608-4261-bc00-f76623a83770 button.colab-df-convert');\n",
              "      buttonEl.style.display =\n",
              "        google.colab.kernel.accessAllowed ? 'block' : 'none';\n",
              "\n",
              "      async function convertToInteractive(key) {\n",
              "        const element = document.querySelector('#df-54ec2f48-d608-4261-bc00-f76623a83770');\n",
              "        const dataTable =\n",
              "          await google.colab.kernel.invokeFunction('convertToInteractive',\n",
              "                                                    [key], {});\n",
              "        if (!dataTable) return;\n",
              "\n",
              "        const docLinkHtml = 'Like what you see? Visit the ' +\n",
              "          '<a target=\"_blank\" href=https://colab.research.google.com/notebooks/data_table.ipynb>data table notebook</a>'\n",
              "          + ' to learn more about interactive tables.';\n",
              "        element.innerHTML = '';\n",
              "        dataTable['output_type'] = 'display_data';\n",
              "        await google.colab.output.renderOutput(dataTable, element);\n",
              "        const docLink = document.createElement('div');\n",
              "        docLink.innerHTML = docLinkHtml;\n",
              "        element.appendChild(docLink);\n",
              "      }\n",
              "    </script>\n",
              "  </div>\n",
              "\n",
              "\n",
              "    <div id=\"df-99690039-d7c6-4afd-9b47-f5872bceb36e\">\n",
              "      <button class=\"colab-df-quickchart\" onclick=\"quickchart('df-99690039-d7c6-4afd-9b47-f5872bceb36e')\"\n",
              "                title=\"Suggest charts\"\n",
              "                style=\"display:none;\">\n",
              "\n",
              "<svg xmlns=\"http://www.w3.org/2000/svg\" height=\"24px\"viewBox=\"0 0 24 24\"\n",
              "     width=\"24px\">\n",
              "    <g>\n",
              "        <path d=\"M19 3H5c-1.1 0-2 .9-2 2v14c0 1.1.9 2 2 2h14c1.1 0 2-.9 2-2V5c0-1.1-.9-2-2-2zM9 17H7v-7h2v7zm4 0h-2V7h2v10zm4 0h-2v-4h2v4z\"/>\n",
              "    </g>\n",
              "</svg>\n",
              "      </button>\n",
              "\n",
              "<style>\n",
              "  .colab-df-quickchart {\n",
              "      --bg-color: #E8F0FE;\n",
              "      --fill-color: #1967D2;\n",
              "      --hover-bg-color: #E2EBFA;\n",
              "      --hover-fill-color: #174EA6;\n",
              "      --disabled-fill-color: #AAA;\n",
              "      --disabled-bg-color: #DDD;\n",
              "  }\n",
              "\n",
              "  [theme=dark] .colab-df-quickchart {\n",
              "      --bg-color: #3B4455;\n",
              "      --fill-color: #D2E3FC;\n",
              "      --hover-bg-color: #434B5C;\n",
              "      --hover-fill-color: #FFFFFF;\n",
              "      --disabled-bg-color: #3B4455;\n",
              "      --disabled-fill-color: #666;\n",
              "  }\n",
              "\n",
              "  .colab-df-quickchart {\n",
              "    background-color: var(--bg-color);\n",
              "    border: none;\n",
              "    border-radius: 50%;\n",
              "    cursor: pointer;\n",
              "    display: none;\n",
              "    fill: var(--fill-color);\n",
              "    height: 32px;\n",
              "    padding: 0;\n",
              "    width: 32px;\n",
              "  }\n",
              "\n",
              "  .colab-df-quickchart:hover {\n",
              "    background-color: var(--hover-bg-color);\n",
              "    box-shadow: 0 1px 2px rgba(60, 64, 67, 0.3), 0 1px 3px 1px rgba(60, 64, 67, 0.15);\n",
              "    fill: var(--button-hover-fill-color);\n",
              "  }\n",
              "\n",
              "  .colab-df-quickchart-complete:disabled,\n",
              "  .colab-df-quickchart-complete:disabled:hover {\n",
              "    background-color: var(--disabled-bg-color);\n",
              "    fill: var(--disabled-fill-color);\n",
              "    box-shadow: none;\n",
              "  }\n",
              "\n",
              "  .colab-df-spinner {\n",
              "    border: 2px solid var(--fill-color);\n",
              "    border-color: transparent;\n",
              "    border-bottom-color: var(--fill-color);\n",
              "    animation:\n",
              "      spin 1s steps(1) infinite;\n",
              "  }\n",
              "\n",
              "  @keyframes spin {\n",
              "    0% {\n",
              "      border-color: transparent;\n",
              "      border-bottom-color: var(--fill-color);\n",
              "      border-left-color: var(--fill-color);\n",
              "    }\n",
              "    20% {\n",
              "      border-color: transparent;\n",
              "      border-left-color: var(--fill-color);\n",
              "      border-top-color: var(--fill-color);\n",
              "    }\n",
              "    30% {\n",
              "      border-color: transparent;\n",
              "      border-left-color: var(--fill-color);\n",
              "      border-top-color: var(--fill-color);\n",
              "      border-right-color: var(--fill-color);\n",
              "    }\n",
              "    40% {\n",
              "      border-color: transparent;\n",
              "      border-right-color: var(--fill-color);\n",
              "      border-top-color: var(--fill-color);\n",
              "    }\n",
              "    60% {\n",
              "      border-color: transparent;\n",
              "      border-right-color: var(--fill-color);\n",
              "    }\n",
              "    80% {\n",
              "      border-color: transparent;\n",
              "      border-right-color: var(--fill-color);\n",
              "      border-bottom-color: var(--fill-color);\n",
              "    }\n",
              "    90% {\n",
              "      border-color: transparent;\n",
              "      border-bottom-color: var(--fill-color);\n",
              "    }\n",
              "  }\n",
              "</style>\n",
              "\n",
              "      <script>\n",
              "        async function quickchart(key) {\n",
              "          const quickchartButtonEl =\n",
              "            document.querySelector('#' + key + ' button');\n",
              "          quickchartButtonEl.disabled = true;  // To prevent multiple clicks.\n",
              "          quickchartButtonEl.classList.add('colab-df-spinner');\n",
              "          try {\n",
              "            const charts = await google.colab.kernel.invokeFunction(\n",
              "                'suggestCharts', [key], {});\n",
              "          } catch (error) {\n",
              "            console.error('Error during call to suggestCharts:', error);\n",
              "          }\n",
              "          quickchartButtonEl.classList.remove('colab-df-spinner');\n",
              "          quickchartButtonEl.classList.add('colab-df-quickchart-complete');\n",
              "        }\n",
              "        (() => {\n",
              "          let quickchartButtonEl =\n",
              "            document.querySelector('#df-99690039-d7c6-4afd-9b47-f5872bceb36e button');\n",
              "          quickchartButtonEl.style.display =\n",
              "            google.colab.kernel.accessAllowed ? 'block' : 'none';\n",
              "        })();\n",
              "      </script>\n",
              "    </div>\n",
              "\n",
              "    </div>\n",
              "  </div>\n"
            ],
            "application/vnd.google.colaboratory.intrinsic+json": {
              "type": "dataframe",
              "variable_name": "df",
              "summary": "{\n  \"name\": \"df\",\n  \"rows\": 6169,\n  \"fields\": [\n    {\n      \"column\": \"ID_compra\",\n      \"properties\": {\n        \"dtype\": \"number\",\n        \"std\": 1780,\n        \"min\": 1,\n        \"max\": 6169,\n        \"num_unique_values\": 6169,\n        \"samples\": [\n          5998,\n          409,\n          1489\n        ],\n        \"semantic_type\": \"\",\n        \"description\": \"\"\n      }\n    },\n    {\n      \"column\": \"data\",\n      \"properties\": {\n        \"dtype\": \"date\",\n        \"min\": \"2023-01-03 00:00:00\",\n        \"max\": \"2023-12-31 00:00:00\",\n        \"num_unique_values\": 304,\n        \"samples\": [\n          \"2023-08-05 00:00:00\",\n          \"2023-07-06 00:00:00\",\n          \"2023-05-17 00:00:00\"\n        ],\n        \"semantic_type\": \"\",\n        \"description\": \"\"\n      }\n    },\n    {\n      \"column\": \"horario\",\n      \"properties\": {\n        \"dtype\": \"object\",\n        \"num_unique_values\": 659,\n        \"samples\": [\n          \"19:04\",\n          \"21:53\",\n          \"21:42\"\n        ],\n        \"semantic_type\": \"\",\n        \"description\": \"\"\n      }\n    },\n    {\n      \"column\": \"categoria\",\n      \"properties\": {\n        \"dtype\": \"category\",\n        \"num_unique_values\": 8,\n        \"samples\": [\n          \"Ferramentas e constru\\u00e7\\u00e3o\",\n          \"Livros\",\n          \"Eletr\\u00f4nicos\"\n        ],\n        \"semantic_type\": \"\",\n        \"description\": \"\"\n      }\n    },\n    {\n      \"column\": \"preco_unitario\",\n      \"properties\": {\n        \"dtype\": \"number\",\n        \"std\": 1852.0643423194142,\n        \"min\": 2.9,\n        \"max\": 8000.0,\n        \"num_unique_values\": 1655,\n        \"samples\": [\n          6291.9,\n          52.9,\n          31.0\n        ],\n        \"semantic_type\": \"\",\n        \"description\": \"\"\n      }\n    },\n    {\n      \"column\": \"quantidade\",\n      \"properties\": {\n        \"dtype\": \"number\",\n        \"std\": 1,\n        \"min\": 1,\n        \"max\": 5,\n        \"num_unique_values\": 5,\n        \"samples\": [\n          1,\n          3,\n          2\n        ],\n        \"semantic_type\": \"\",\n        \"description\": \"\"\n      }\n    },\n    {\n      \"column\": \"frete\",\n      \"properties\": {\n        \"dtype\": \"number\",\n        \"std\": 366.14922483792856,\n        \"min\": 0.0,\n        \"max\": 4521.54,\n        \"num_unique_values\": 2934,\n        \"samples\": [\n          30.58,\n          21.21,\n          14.23\n        ],\n        \"semantic_type\": \"\",\n        \"description\": \"\"\n      }\n    },\n    {\n      \"column\": \"metodo_pagamento\",\n      \"properties\": {\n        \"dtype\": \"category\",\n        \"num_unique_values\": 4,\n        \"samples\": [\n          \"PIX\",\n          \"Cart\\u00e3o de D\\u00e9bito\",\n          \"Boleto\"\n        ],\n        \"semantic_type\": \"\",\n        \"description\": \"\"\n      }\n    },\n    {\n      \"column\": \"ID_cliente\",\n      \"properties\": {\n        \"dtype\": \"number\",\n        \"std\": 2610,\n        \"min\": 1005,\n        \"max\": 9999,\n        \"num_unique_values\": 4453,\n        \"samples\": [\n          7826,\n          3212,\n          2734\n        ],\n        \"semantic_type\": \"\",\n        \"description\": \"\"\n      }\n    },\n    {\n      \"column\": \"idade\",\n      \"properties\": {\n        \"dtype\": \"number\",\n        \"std\": 9,\n        \"min\": 18,\n        \"max\": 70,\n        \"num_unique_values\": 53,\n        \"samples\": [\n          47,\n          20,\n          70\n        ],\n        \"semantic_type\": \"\",\n        \"description\": \"\"\n      }\n    },\n    {\n      \"column\": \"sexo_biologico\",\n      \"properties\": {\n        \"dtype\": \"category\",\n        \"num_unique_values\": 2,\n        \"samples\": [\n          \"Feminino\",\n          \"Masculino\"\n        ],\n        \"semantic_type\": \"\",\n        \"description\": \"\"\n      }\n    },\n    {\n      \"column\": \"cidade\",\n      \"properties\": {\n        \"dtype\": \"category\",\n        \"num_unique_values\": 96,\n        \"samples\": [\n          \"Vit\\u00f3ria da Conquista\",\n          \"Feira de Santana\"\n        ],\n        \"semantic_type\": \"\",\n        \"description\": \"\"\n      }\n    },\n    {\n      \"column\": \"uf\",\n      \"properties\": {\n        \"dtype\": \"category\",\n        \"num_unique_values\": 27,\n        \"samples\": [\n          \"Par\\u00e1\",\n          \"Minas Gerais\"\n        ],\n        \"semantic_type\": \"\",\n        \"description\": \"\"\n      }\n    },\n    {\n      \"column\": \"regiao\",\n      \"properties\": {\n        \"dtype\": \"category\",\n        \"num_unique_values\": 5,\n        \"samples\": [\n          \"Sudeste\",\n          \"Centro-Oeste\"\n        ],\n        \"semantic_type\": \"\",\n        \"description\": \"\"\n      }\n    },\n    {\n      \"column\": \"cashback\",\n      \"properties\": {\n        \"dtype\": \"category\",\n        \"num_unique_values\": 2,\n        \"samples\": [\n          \"N\\u00e3o\",\n          \"Sim\"\n        ],\n        \"semantic_type\": \"\",\n        \"description\": \"\"\n      }\n    },\n    {\n      \"column\": \"avaliacao_compra\",\n      \"properties\": {\n        \"dtype\": \"number\",\n        \"std\": 1,\n        \"min\": 0,\n        \"max\": 10,\n        \"num_unique_values\": 11,\n        \"samples\": [\n          2,\n          10\n        ],\n        \"semantic_type\": \"\",\n        \"description\": \"\"\n      }\n    },\n    {\n      \"column\": \"zoop_pay\",\n      \"properties\": {\n        \"dtype\": \"category\",\n        \"num_unique_values\": 2,\n        \"samples\": [\n          \"Sim\",\n          \"N\\u00e3o\"\n        ],\n        \"semantic_type\": \"\",\n        \"description\": \"\"\n      }\n    }\n  ]\n}"
            }
          },
          "metadata": {},
          "execution_count": 10
        }
      ],
      "source": [
        "import pandas as pd\n",
        "\n",
        "# Leitura da base zoop_pay a partir da URL\n",
        "zoop_pay = pd.read_csv(url_zoop_pay)\n",
        "\n",
        "# Junção do df com a base zoop_pay utilizando \"ID_cliente\" como chave\n",
        "df = pd.merge(df, zoop_pay, on=\"ID_cliente\", how=\"left\")  # 'left' para manter todas as compras mesmo que não estejam na Zoop Pay\n",
        "\n",
        "# Convertendo a coluna 'data' para datetime no formato 'YYYY-MM-DD'\n",
        "df['data'] = pd.to_datetime(df['data'], format=\"%Y-%m-%d\")\n",
        "\n",
        "# Exibindo as primeiras linhas para verificação\n",
        "df.head()"
      ]
    },
    {
      "cell_type": "markdown",
      "metadata": {
        "id": "ix1N_JAH_T1C"
      },
      "source": [
        "## Aula 02 - Visualizando os dados"
      ]
    },
    {
      "cell_type": "markdown",
      "metadata": {
        "id": "1sZUt4Nk_scq"
      },
      "source": [
        "### Mão na Massa - Gerando visuais em relação a localidade"
      ]
    },
    {
      "cell_type": "markdown",
      "metadata": {
        "id": "rIEwxYxGlkb0"
      },
      "source": [
        "#### Desafio 1:"
      ]
    },
    {
      "cell_type": "markdown",
      "metadata": {
        "id": "_7bWIQ_0lkb1"
      },
      "source": [
        "> #### <strong><font color=\"#203f75\" size= 6>Prompt:</font></strong>\n",
        "\n",
        "Escreva aqui o prompt que você utilizou para gerar o código do desafio!\n",
        "\n",
        "\n",
        "\n",
        "Temos um DataFrame chamado \"df\" e queremos construir um visual de gráfico de colunas que apresente o faturamento por região da Zoop.\n",
        "\n",
        "Em \"df\", temos as colunas:\n",
        "\n",
        "      regiao: regiao do(a) cliente\n",
        "      preco_unitario: preço de uma unidade do produto\n",
        "      quantidade: quantidade vendida do produto\n",
        "      frete: frete a ser pago no total da compra.\n",
        "\n",
        "Desejamos criar uma visualização que apresente o faturamento de cada região, em que o faturamento é dado pelo produto entre o preço unitário e a quantidade somadas ao frete.\n",
        "\n",
        "Utilize as bibliotecas de visualização de dados do Python para criar essa visualização.\n"
      ]
    },
    {
      "cell_type": "code",
      "execution_count": 11,
      "metadata": {
        "id": "EQ2k1j6f_scv",
        "colab": {
          "base_uri": "https://localhost:8080/",
          "height": 564
        },
        "outputId": "15e3dcab-f293-4b56-b365-e1c42b9b4f5e"
      },
      "outputs": [
        {
          "output_type": "display_data",
          "data": {
            "text/plain": [
              "<Figure size 1000x600 with 1 Axes>"
            ],
            "image/png": "[encoded data removed]"
          },
          "metadata": {}
        }
      ],
      "source": [
        "import matplotlib.pyplot as plt\n",
        "\n",
        "# Supondo que df seja o seu DataFrame\n",
        "# Calcula o faturamento para cada transação\n",
        "df['faturamento'] = (df['preco_unitario'] * df['quantidade']) + df['frete']\n",
        "\n",
        "# Agrupa os dados por região e soma o faturamento\n",
        "faturamento_por_regiao = df.groupby('regiao')['faturamento'].sum().reset_index()\n",
        "\n",
        "# Ordena o resultado para melhor visualização\n",
        "faturamento_por_regiao = faturamento_por_regiao.sort_values(by='faturamento', ascending=False)\n",
        "\n",
        "# Criação do gráfico de colunas\n",
        "plt.figure(figsize=(10, 6))  # Ajusta o tamanho do gráfico\n",
        "plt.bar(faturamento_por_regiao['regiao'], faturamento_por_regiao['faturamento'], color='skyblue')  # Plota o gráfico de barras\n",
        "plt.title('Faturamento por Região')  # Adiciona título ao gráfico\n",
        "plt.xlabel('Região')  # Adiciona rótulo ao eixo X\n",
        "plt.ylabel('Faturamento')  # Adiciona rótulo ao eixo Y\n",
        "plt.show()  # Exibe o gráfico"
      ]
    },
    {
      "cell_type": "markdown",
      "metadata": {
        "id": "_IXysqEtlkb1"
      },
      "source": [
        "#### Desafio 2:"
      ]
    },
    {
      "cell_type": "markdown",
      "metadata": {
        "id": "Uk9ZoNNMlkb1"
      },
      "source": [
        "> #### <strong><font color=\"#203f75\" size= 6>Prompt:</font></strong>\n",
        "\n",
        "Escreva aqui o prompt que você utilizou para gerar o código do desafio!\n",
        "\n",
        "\n",
        "  Temos um DataFrame chamado \"df\" e queremos construir um visual de colunas empilhadas que apresente a quantidade de pessoas por sexo biológico em relação aos estados de \"São Paulo\" e \"Rio de Janeiro\".\n",
        "\n",
        "  Em \"df\", temos as colunas:\n",
        "\n",
        "        uf: unidade federativa (estado) do(a) cliente. Vamos utilizar apenas os estados de \"São Paulo\" e \"Rio de Janeiro\"\n",
        "        sexo_biologico: sexo biológico do(a) cliente\n",
        "\n",
        "   Desejamos criar uma visualização que apresente a quantidade de pessoas agrupadas por sexo biológico nos estados que definimos.\n",
        "\n",
        "  Utilize as bibliotecas de visualização de dados do Python para criar essa visualização.\n"
      ]
    },
    {
      "cell_type": "code",
      "execution_count": 12,
      "metadata": {
        "id": "kz2xGyH0_scv",
        "colab": {
          "base_uri": "https://localhost:8080/",
          "height": 565
        },
        "outputId": "0d2dd051-e0af-4993-9ce4-34bbedc6bd92"
      },
      "outputs": [
        {
          "output_type": "display_data",
          "data": {
            "text/plain": [
              "<Figure size 1000x600 with 1 Axes>"
            ],
            "image/png": "[encoded data removed]"
          },
          "metadata": {}
        }
      ],
      "source": [
        "# Filtrar o DataFrame para incluir apenas os estados de \"São Paulo\" e \"Rio de Janeiro\"\n",
        "df_filtrado = df[df['uf'].isin(['São Paulo', 'Rio de Janeiro'])]\n",
        "\n",
        "# Contar a quantidade de pessoas por sexo biológico e estado\n",
        "contagem_por_sexo_e_estado = df_filtrado.groupby(['uf', 'sexo_biologico']).size().unstack(fill_value=0)\n",
        "\n",
        "# Criar o gráfico de colunas empilhadas\n",
        "contagem_por_sexo_e_estado.plot(kind='bar', stacked=True, figsize=(10, 6))\n",
        "\n",
        "# Adicionar título e rótulos aos eixos\n",
        "plt.title('Quantidade de Pessoas por Sexo Biológico em São Paulo e Rio de Janeiro')\n",
        "plt.xlabel('Estado')\n",
        "plt.ylabel('Quantidade de Pessoas')\n",
        "plt.xticks(rotation=0)  # Mantém os rótulos dos estados na horizontal para melhor legibilidade\n",
        "\n",
        "# Mostrar a legenda e o gráfico\n",
        "plt.legend(title='Sexo Biológico')\n",
        "plt.show()"
      ]
    },
    {
      "cell_type": "markdown",
      "metadata": {
        "id": "1uTAdILB_T6m"
      },
      "source": [
        "## Aula 03 - Gerando mais visuais"
      ]
    },
    {
      "cell_type": "markdown",
      "metadata": {
        "id": "SsQ3DvzR_t-L"
      },
      "source": [
        "### Mão na Massa - Perfil dos clientes"
      ]
    },
    {
      "cell_type": "markdown",
      "metadata": {
        "id": "yhF4TQF2lkb2"
      },
      "source": [
        "#### Desafio 1:"
      ]
    },
    {
      "cell_type": "markdown",
      "metadata": {
        "id": "NZr2k4j-lkb2"
      },
      "source": [
        "> #### <strong><font color=\"#203f75\" size= 6>Prompt:</font></strong>\n",
        "\n",
        "Escreva aqui o prompt que você utilizou para gerar o código do desafio!\n",
        "\n",
        "\n",
        "\n",
        "  Temos um DataFrame chamado \"df\" e queremos construir um visual que apresente a proporção dos(as) usuários(as) que realizaram o pré-cadastro na Zoop Pay, nova solução da Zoop.\n",
        "\n",
        "  Em \"df\", temos a coluna \"zoop_pay\" que dispõe de tais dados. Construa um gráfico de rosca em que o valor \"Sim\" receba a cor #2a9d8f e \"Não\" a cor #edede9.\n",
        "\n",
        "  Utilize as bibliotecas de visualização de dados do Python para criar essa visualização.\n"
      ]
    },
    {
      "cell_type": "code",
      "execution_count": 14,
      "metadata": {
        "id": "bIoMVk5r_t-Q",
        "colab": {
          "base_uri": "https://localhost:8080/",
          "height": 521
        },
        "outputId": "753dc544-d146-4f27-dbb9-9fb1734fea82"
      },
      "outputs": [
        {
          "output_type": "display_data",
          "data": {
            "text/plain": [
              "<Figure size 800x600 with 1 Axes>"
            ],
            "image/png": "[encoded data removed]"
          },
          "metadata": {}
        }
      ],
      "source": [
        "# Contabiliza a quantidade de usuários que realizaram o pré-cadastro na Zoop Pay\n",
        "pre_cadastro_counts = df['zoop_pay'].value_counts()\n",
        "\n",
        "# Define as cores para cada valor\n",
        "colors = ['#2a9d8f' if label == 'Sim' else '#edede9' for label in pre_cadastro_counts.index]\n",
        "\n",
        "# Cria o gráfico de rosca\n",
        "plt.figure(figsize=(8, 6))\n",
        "plt.pie(pre_cadastro_counts, labels=pre_cadastro_counts.index, autopct='%1.1f%%', startangle=140, colors=colors, wedgeprops=dict(width=0.3))\n",
        "\n",
        "# Adiciona um título ao gráfico\n",
        "plt.title('Proporção de Pré-cadastro na Zoop Pay')\n",
        "\n",
        "# Exibe o gráfico\n",
        "plt.show()"
      ]
    },
    {
      "cell_type": "markdown",
      "metadata": {
        "id": "ATDYbRRDlkb2"
      },
      "source": [
        "#### Desafio 2:"
      ]
    },
    {
      "cell_type": "markdown",
      "metadata": {
        "id": "z8gPhDbylkb2"
      },
      "source": [
        "> #### <strong><font color=\"#203f75\" size= 6>Prompt:</font></strong>\n",
        "\n",
        "Escreva aqui o prompt que você utilizou para gerar o código do desafio!\n",
        "\n",
        "\n",
        "\n",
        "   Temos um DataFrame chamado \"df\" e queremos construir um visual que apresente a distribuição das idades dos(as) clientes por região.\n",
        "\n",
        "  Em \"df\", temos as colunas:\n",
        "\n",
        "        regiao: região da pessoa que realizou a compra.\n",
        "        idade: idade da pessoa que realizou a compra\n",
        "\n",
        "  Desejamos criar uma visualização de boxplot que apresente a distribuição desses dados. Coloque as idades no eixo x e as regiões no eixo y\n",
        "\n",
        "  Utilize as bibliotecas de visualização de dados do Python para criar essa visualização.\n"
      ]
    },
    {
      "cell_type": "code",
      "execution_count": 16,
      "metadata": {
        "id": "0lEwT00p_t-Q",
        "colab": {
          "base_uri": "https://localhost:8080/",
          "height": 807
        },
        "outputId": "2be5f91d-8755-4acf-eef3-1f7a4ab9c0f0"
      },
      "outputs": [
        {
          "output_type": "stream",
          "name": "stderr",
          "text": [
            "/tmp/ipython-input-16-3044150673.py:5: FutureWarning: \n",
            "\n",
            "Passing `palette` without assigning `hue` is deprecated and will be removed in v0.14.0. Assign the `y` variable to `hue` and set `legend=False` for the same effect.\n",
            "\n",
            "  boxplot = sns.boxplot(x='idade', y='regiao', data=df, palette=\"colorblind\")  # Cria o boxplot\n"
          ]
        },
        {
          "output_type": "display_data",
          "data": {
            "text/plain": [
              "<Figure size 1200x800 with 1 Axes>"
            ],
            "image/png": "[encoded data removed]"
          },
          "metadata": {}
        }
      ],
      "source": [
        "import seaborn as sns\n",
        "\n",
        "# Criação do boxplot\n",
        "plt.figure(figsize=(12, 8))  # Define o tamanho do gráfico\n",
        "boxplot = sns.boxplot(x='idade', y='regiao', data=df, palette=\"colorblind\")  # Cria o boxplot\n",
        "\n",
        "# Adiciona títulos e rótulos aos eixos\n",
        "plt.title('Distribuição das Idades dos Clientes por Região')  # Título do gráfico\n",
        "plt.xlabel('Idade')  # Rótulo do eixo X\n",
        "plt.ylabel('Região')  # Rótulo do eixo Y\n",
        "\n",
        "# Exibe o gráfico\n",
        "plt.show()\n"
      ]
    },
    {
      "cell_type": "markdown",
      "metadata": {
        "id": "i_X1NcH9_T-u"
      },
      "source": [
        "## Aula 04 - Técnicas de storytelling"
      ]
    },
    {
      "cell_type": "markdown",
      "metadata": {
        "id": "5OiqH_0Xlkb3"
      },
      "source": [
        "### Paleta de Cores"
      ]
    },
    {
      "cell_type": "markdown",
      "metadata": {
        "id": "IRbafcEZlkb3"
      },
      "source": [
        "Vamos compartilhar aqui a paleta de cores que usamos durante o curso pra você executar e usar em seu projeto, mas sinta-se livre para construir a sua própria."
      ]
    },
    {
      "cell_type": "code",
      "execution_count": 13,
      "metadata": {
        "id": "zsI6NwNelkb3"
      },
      "outputs": [],
      "source": [
        "# Adicionando as cores como variáveis do projeto\n",
        "VERMELHO_1,\tVERMELHO_2,\tVERMELHO_3 = \"#e23155\",\t\"#cc2c4e\", \"#b32742\"\n",
        "AZUL_1,\tAZUL_2,\tAZUL_3 = \"#203f75\",\t\"#1c3867\", \"#19325b\"\n",
        "BRANCO,\tCINZA_1, CINZA_2, CINZA_3, CINZA_4,\tCINZA_5 = \"#ffffff\", \"#ebebeb\",\t\"#d9d9d9\", \"#cccccc\", \"#555655\", \"#231f20\"\n",
        "AQUA_1,\tAQUA_2,\tAQUA_3 = \"#addcd4\",\t\"#9fccc5\", \"#96bfb9\""
      ]
    },
    {
      "cell_type": "markdown",
      "metadata": {
        "id": "jQGogqg0_uiR"
      },
      "source": [
        "### Mão na Massa - Refinando os visuais escolhidos"
      ]
    },
    {
      "cell_type": "markdown",
      "metadata": {
        "id": "iVIbFy3ylkb3"
      },
      "source": [
        "#### Desafio 1:"
      ]
    },
    {
      "cell_type": "markdown",
      "metadata": {
        "id": "dN8r0gMvlkb3"
      },
      "source": [
        "##### Gráfico sem refinamento"
      ]
    },
    {
      "cell_type": "code",
      "execution_count": 13,
      "metadata": {
        "id": "kHsVLA2b_uiS"
      },
      "outputs": [],
      "source": []
    },
    {
      "cell_type": "markdown",
      "metadata": {
        "id": "ZJ-5Ip4clkb4"
      },
      "source": [
        "> #### <strong><font color=\"#203f75\" size= 6>Prompt:</font></strong>\n",
        "\n",
        "Escreva aqui o prompt que você utilizou para gerar o código do desafio!\n"
      ]
    },
    {
      "cell_type": "code",
      "execution_count": 13,
      "metadata": {
        "id": "T1dqk3Al_uiS"
      },
      "outputs": [],
      "source": []
    },
    {
      "cell_type": "markdown",
      "metadata": {
        "id": "KwpDuGS0lkb8"
      },
      "source": [
        "#### Desafio 2:"
      ]
    },
    {
      "cell_type": "markdown",
      "metadata": {
        "id": "1N-oIX4wlkb8"
      },
      "source": [
        "##### Gráfico sem refinamento"
      ]
    },
    {
      "cell_type": "code",
      "execution_count": 13,
      "metadata": {
        "id": "uaVxWWPC_uiS"
      },
      "outputs": [],
      "source": []
    },
    {
      "cell_type": "markdown",
      "metadata": {
        "id": "lMhttwIAlkb8"
      },
      "source": [
        "> #### <strong><font color=\"#203f75\" size= 6>Prompt:</font></strong>\n",
        "\n",
        "Escreva aqui o prompt que você utilizou para gerar o código do desafio!"
      ]
    },
    {
      "cell_type": "code",
      "execution_count": 13,
      "metadata": {
        "id": "UiHJAvqGlkb8"
      },
      "outputs": [],
      "source": []
    }
  ],
  "metadata": {
    "colab": {
      "provenance": [],
      "include_colab_link": true
    },
    "kernelspec": {
      "display_name": "base",
      "language": "python",
      "name": "python3"
    },
    "language_info": {
      "codemirror_mode": {
        "name": "ipython",
        "version": 3
      },
      "file_extension": ".py",
      "mimetype": "text/x-python",
      "name": "python",
      "nbconvert_exporter": "python",
      "pygments_lexer": "ipython3",
      "version": "3.10.5"
    },
    "orig_nbformat": 4
  },
  "nbformat": 4,
  "nbformat_minor": 0
}